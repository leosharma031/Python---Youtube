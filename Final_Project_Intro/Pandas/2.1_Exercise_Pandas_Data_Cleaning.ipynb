{
 "cells": [
  {
   "cell_type": "code",
   "execution_count": 35,
   "metadata": {},
   "outputs": [],
   "source": [
    "import numpy as np\n",
    "import pandas as pd\n",
    "from datasets import load_dataset\n",
    "import matplotlib.pyplot as plt\n",
    "\n",
    "dataset = load_dataset('lukebarousse/data_jobs')\n",
    "df = dataset['train'].to_pandas()\n",
    "\n",
    "df['job_posted_date'] = pd.to_datetime(df['job_posted_date'])"
   ]
  },
  {
   "cell_type": "code",
   "execution_count": 36,
   "metadata": {},
   "outputs": [
    {
     "name": "stdout",
     "output_type": "stream",
     "text": [
      "Total Rows before removing 785741\n",
      "Total Rows after removing 22003\n"
     ]
    }
   ],
   "source": [
    "# Problem 2.2.1\n",
    "# Remove rows where the salary_year_avg column has missing values. Display the number of rows before and after removing.\n",
    "\n",
    "df_updated  = df.copy()    ## Making a new dataframe\n",
    "\n",
    "df_updated = df_updated.dropna(subset='salary_year_avg')      ## Dropping NaN values from Salary_year_avg\n",
    "\n",
    "df_updated['salary_year_avg']                                 ## Printing out the Salary_year_avg column\n",
    "\n",
    "print('Total Rows before removing',len(df))            \n",
    "print('Total Rows after removing',len(df_updated))\n",
    "\n",
    "# df_updated\n"
   ]
  },
  {
   "cell_type": "code",
   "execution_count": 37,
   "metadata": {},
   "outputs": [
    {
     "name": "stdout",
     "output_type": "stream",
     "text": [
      "Number of rows Before:  785741\n",
      "Number of rows After:  17218\n"
     ]
    }
   ],
   "source": [
    "# Problem 2.2.2\n",
    "# Remove duplicate rows from the DataFrame based on the job_location column. Display the number of rows before and after removing duplicates.\n",
    "\n",
    "df_updated_two = df.copy()\n",
    "df_updated_two = df_updated_two.drop_duplicates(subset='job_location')\n",
    "df_updated_two['job_location']\n",
    "\n",
    "print('Number of rows Before: ',len(df.job_location))\n",
    "print('Number of rows After: ',len(df_updated_two))\n"
   ]
  },
  {
   "cell_type": "code",
   "execution_count": null,
   "metadata": {},
   "outputs": [
    {
     "name": "stdout",
     "output_type": "stream",
     "text": [
      "0     None\n",
      "1     None\n",
      "2     None\n",
      "3     None\n",
      "4     None\n",
      "5     None\n",
      "6     None\n",
      "7     None\n",
      "8     None\n",
      "9     None\n",
      "10    None\n",
      "11    None\n",
      "12    None\n",
      "13    None\n",
      "14    None\n",
      "Name: salary_rate, dtype: object\n",
      "\n",
      "\n",
      "0     Unknown\n",
      "1     Unknown\n",
      "2     Unknown\n",
      "3     Unknown\n",
      "4     Unknown\n",
      "5     Unknown\n",
      "6     Unknown\n",
      "7     Unknown\n",
      "8     Unknown\n",
      "9     Unknown\n",
      "10    Unknown\n",
      "11    Unknown\n",
      "12    Unknown\n",
      "13    Unknown\n",
      "14    Unknown\n",
      "Name: salary_rate, dtype: object\n"
     ]
    }
   ],
   "source": [
    "# Problem 2.2.3\n",
    "# Fill missing values in the salary_rate column with the string 'Unknown'. \n",
    "#  Display the first 10 rows of the salary_rate column before and after filling.\n",
    "\n",
    "\n",
    "df_copy = df.copy()                                         ## Making a copy\n",
    "df_copy['salary_rate'].head(15)                             ## Printing out first 15 values\n",
    "\n",
    "df_copy['salary_rate'] = df_copy['salary_rate'].fillna('Unknown') ## Filling 'Uknown' where there are NaN Values\n",
    "\n",
    "print(df['salary_rate'].head(15))\n",
    "print(\"\\n\")\n",
    "print(df_copy['salary_rate'].head(15))\n",
    "\n",
    "# df_copy['salary_rate'].unique()"
   ]
  },
  {
   "cell_type": "code",
   "execution_count": null,
   "metadata": {},
   "outputs": [],
   "source": []
  },
  {
   "cell_type": "code",
   "execution_count": null,
   "metadata": {},
   "outputs": [],
   "source": []
  }
 ],
 "metadata": {
  "kernelspec": {
   "display_name": "Python_Youtube",
   "language": "python",
   "name": "python3"
  },
  "language_info": {
   "codemirror_mode": {
    "name": "ipython",
    "version": 3
   },
   "file_extension": ".py",
   "mimetype": "text/x-python",
   "name": "python",
   "nbconvert_exporter": "python",
   "pygments_lexer": "ipython3",
   "version": "3.11.11"
  }
 },
 "nbformat": 4,
 "nbformat_minor": 2
}
