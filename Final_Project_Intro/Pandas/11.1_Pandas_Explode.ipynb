{
 "cells": [
  {
   "cell_type": "code",
   "execution_count": 101,
   "metadata": {},
   "outputs": [],
   "source": [
    "import numpy as np\n",
    "import pandas as pd\n",
    "from datasets import load_dataset\n",
    "import matplotlib.pyplot as plt\n",
    "import ast \n",
    "df = pd.read_csv(r\"C:\\Users\\homeA\\Desktop\\Python - Youtube\\data_jobs.csv\")\n",
    "\n",
    "df['job_posted_date'] = pd.to_datetime(df['job_posted_date'])\n",
    "\n",
    "# df = df.dropna(subset='job_skills')                ## Dropping NaN values\n",
    "\n",
    "\n",
    "# def clean_list(skill):                       \n",
    "#     return ast.literal_eval(skill)                  ## it runs this and changes String to the List data Type\n",
    "# df['job_skills'] = df['job_skills'].apply(clean_list)\n"
   ]
  },
  {
   "cell_type": "markdown",
   "metadata": {},
   "source": []
  },
  {
   "cell_type": "code",
   "execution_count": 102,
   "metadata": {},
   "outputs": [],
   "source": [
    "# # Bar Plot of Top Skills for Cloud Engineers (2.11.1) - Problem\n",
    "# # Pandas Explode\n",
    "# # Problem Statement:\n",
    "# # Using the ast library, clean up the job_skills column to be of the list data type in preparation for exploding this column.\n",
    "# # NOTE: For future problems, it'll be assumed that you have done this step in preparation for exploding this column.\n",
    "# # Explode the job_skills column in the DataFrame and create a bar plot using pandas of the top 10 most common skills for Cloud Engineer.\n",
    "# # Add labels for the x-axis (label as 'Skills'), y-axis (label as 'Count') and a title \n",
    "# # (set as 'Top 10 Most Common Skills for Cloud Engineers') for the plot.\n",
    "\n",
    "# df = df.dropna(subset='job_skills')\n",
    "# ## Dropping NaN values\n",
    "\n",
    "\n",
    "# ## Coverting string to list\n",
    "# def clean(skill):\n",
    "#     return ast.literal_eval(skill)\n",
    "# df['job_skills'] = df['job_skills'].apply(clean)\n",
    "\n",
    "# ## Exploding the Job_skill column\n",
    "# df_exploded = df.explode('job_skills')\n",
    "\n",
    "\n",
    "\n",
    "# skills = df_exploded[df_exploded['job_title_short']=='Cloud Engineer'].groupby(['job_title_short', 'job_skills']).size().sort_values(ascending=False).head(10)\n",
    "# skills = skills.reset_index(name = 'skill_count')\n",
    "# skills.plot(kind='barh', x='job_skills' , y='skill_count')\n",
    "# plt.gca().invert_yaxis()\n",
    "# plt.title(f'Top 10 Skills for Cloud Engineer')\n",
    "# plt.xlabel('Job Posting Count')\n",
    "# plt.ylabel('')"
   ]
  },
  {
   "cell_type": "markdown",
   "metadata": {},
   "source": [
    "### One more way to achieve the same"
   ]
  },
  {
   "cell_type": "code",
   "execution_count": 103,
   "metadata": {},
   "outputs": [],
   "source": [
    "# df = df.dropna(subset='job_skills')                      ## Dropped nan\n",
    "\n",
    "# def clean(s):                                            ## String > List Conversion\n",
    "#     return ast.literal_eval(s)\n",
    "# df['job_skills'] = df['job_skills'].apply(clean)\n",
    "\n",
    "# df_exploded = df.explode('job_skills')                   ## Exploding the job_skill column\n",
    "\n",
    "# skill_count = df_exploded.groupby(['job_title_short', 'job_skills']).size().sort_values(ascending=False)\n",
    "\n",
    "# skill_count = skill_count.reset_index(name = 'count')\n",
    "\n",
    "\n",
    "\n",
    "\n",
    "\n",
    "# job = 'Data Analyst'\n",
    "# num_of_skill = 5\n",
    "# final = skill_count[skill_count['job_title_short']== job].head(num_of_skill)\n",
    "# final.plot(kind= 'barh', x='job_skills' , y ='count')\n",
    "\n",
    "# plt.gca().invert_yaxis()\n",
    "# plt.title(f'Top {num_of_skill} skills for {job}')\n",
    "# plt.xlabel('Job Posting Count')\n",
    "# plt.ylabel('')\n",
    "# plt.legend().set_visible(False)\n",
    "# plt.show()\n"
   ]
  },
  {
   "cell_type": "code",
   "execution_count": 104,
   "metadata": {},
   "outputs": [],
   "source": [
    "# job = 'Cloud Engineer'\n",
    "# num_of_skill = 10\n",
    "# final = skill_count[skill_count['job_title_short']== job].head(num_of_skill)\n",
    "# final.plot(kind= 'bar', x='job_skills' , y ='count')\n",
    "\n",
    "# # plt.gca().invert_yaxis()\n",
    "# plt.title(f'Top {num_of_skill} skills for {job}')\n",
    "# plt.xlabel('Skills')\n",
    "# plt.ylabel('Count')\n",
    "# plt.legend().set_visible(False)\n",
    "# plt.show()\n"
   ]
  },
  {
   "cell_type": "code",
   "execution_count": null,
   "metadata": {},
   "outputs": [],
   "source": [
    "# Average Salary by Skill (2.11.2) - Problem\n",
    "# Pandas Explode\n",
    "# Problem Statement:\n",
    "# Explode the job_skills column in the DataFrame and calculate the average salary for each skill. \n",
    "# Display the top 5 skills with the highest average salary.\n",
    "\n",
    "df_new = df.copy()\n",
    "df_new = df_new.dropna(subset='job_skills')\n",
    "\n",
    "def cleans(s):\n",
    "    return ast.literal_eval(s)\n",
    "df_new['job_skills']  = df_new['job_skills'].apply(cleans)\n",
    "\n",
    "df_new = df_new.explode('job_skills')\n",
    "df_new = df_new.dropna(subset='salary_year_avg')\n",
    "\n",
    "df_done = df_new.groupby('job_skills')['salary_year_avg'].mean().sort_values(ascending=False).head(5)\n",
    "\n",
    "df_done = df_done.reset_index(name = 'Mean')\n",
    "\n",
    "df_done\n"
   ]
  },
  {
   "cell_type": "code",
   "execution_count": 136,
   "metadata": {},
   "outputs": [
    {
     "data": {
      "image/png": "[encoded data removed]",
      "text/plain": [
       "<Figure size 640x480 with 1 Axes>"
      ]
     },
     "metadata": {},
     "output_type": "display_data"
    }
   ],
   "source": [
    "# Unique Skills Count (2.11.3) - Problem\n",
    "# Pandas Explode\n",
    "# Problem Statement:\n",
    "# Explode the job_skills column in the DataFrame and calculate the number of unique skills for each job posting. Display the first 5 rows of the resulting DataFrame with a new column num_unique_skills.\n",
    "\n",
    "# Hint:\n",
    "\n",
    "df_neww = df.copy()\n",
    "df_neww['job_skills'][1]\n",
    "df_neww = df_neww.dropna(subset='job_skills')\n",
    "\n",
    "\n",
    "def cleaning(ss):\n",
    "    return ast.literal_eval(ss)\n",
    "df_neww['job_skills'] = df_neww['job_skills'].apply(cleaning)\n",
    "\n",
    "\n",
    "df_neww = df_neww.explode('job_skills')\n",
    "df_neww['job_skills'][1]\n",
    "\n",
    "top_jobs = df_neww.groupby('job_title_short')['job_skills'].nunique().sort_values(ascending=False).head()\n",
    "top_jobs = top_jobs.reset_index(name = 'counts')\n",
    "\n",
    "top_jobs.plot(kind='barh', x='job_title_short', y='counts')\n",
    "plt.gca().invert_yaxis()\n",
    "plt.title(f'Skills Req by Job Roles')\n",
    "plt.xlabel('Counts')\n",
    "plt.ylabel('')\n",
    "plt.legend().set_visible(False)\n",
    "plt.show()\n",
    "\n"
   ]
  },
  {
   "cell_type": "code",
   "execution_count": null,
   "metadata": {},
   "outputs": [
    {
     "data": {
      "text/plain": [
       "1           r\n",
       "1      python\n",
       "1         sql\n",
       "1       nosql\n",
       "1    power bi\n",
       "1     tableau\n",
       "Name: job_skills, dtype: object"
      ]
     },
     "execution_count": 107,
     "metadata": {},
     "output_type": "execute_result"
    }
   ],
   "source": []
  },
  {
   "cell_type": "code",
   "execution_count": null,
   "metadata": {},
   "outputs": [],
   "source": []
  },
  {
   "cell_type": "code",
   "execution_count": null,
   "metadata": {},
   "outputs": [
    {
     "data": {
      "text/html": [
       "<div>\n",
       "<style scoped>\n",
       "    .dataframe tbody tr th:only-of-type {\n",
       "        vertical-align: middle;\n",
       "    }\n",
       "\n",
       "    .dataframe tbody tr th {\n",
       "        vertical-align: top;\n",
       "    }\n",
       "\n",
       "    .dataframe thead th {\n",
       "        text-align: right;\n",
       "    }\n",
       "</style>\n",
       "<table border=\"1\" class=\"dataframe\">\n",
       "  <thead>\n",
       "    <tr style=\"text-align: right;\">\n",
       "      <th></th>\n",
       "      <th>job_title_short</th>\n",
       "      <th>counts</th>\n",
       "    </tr>\n",
       "  </thead>\n",
       "  <tbody>\n",
       "    <tr>\n",
       "      <th>0</th>\n",
       "      <td>Data Engineer</td>\n",
       "      <td>239</td>\n",
       "    </tr>\n",
       "    <tr>\n",
       "      <th>1</th>\n",
       "      <td>Software Engineer</td>\n",
       "      <td>239</td>\n",
       "    </tr>\n",
       "    <tr>\n",
       "      <th>2</th>\n",
       "      <td>Data Scientist</td>\n",
       "      <td>237</td>\n",
       "    </tr>\n",
       "    <tr>\n",
       "      <th>3</th>\n",
       "      <td>Data Analyst</td>\n",
       "      <td>235</td>\n",
       "    </tr>\n",
       "    <tr>\n",
       "      <th>4</th>\n",
       "      <td>Senior Data Engineer</td>\n",
       "      <td>226</td>\n",
       "    </tr>\n",
       "  </tbody>\n",
       "</table>\n",
       "</div>"
      ],
      "text/plain": [
       "        job_title_short  counts\n",
       "0         Data Engineer     239\n",
       "1     Software Engineer     239\n",
       "2        Data Scientist     237\n",
       "3          Data Analyst     235\n",
       "4  Senior Data Engineer     226"
      ]
     },
     "execution_count": 131,
     "metadata": {},
     "output_type": "execute_result"
    }
   ],
   "source": [
    "top_jobs"
   ]
  },
  {
   "cell_type": "code",
   "execution_count": null,
   "metadata": {},
   "outputs": [
    {
     "data": {
      "image/png": "[encoded data removed]",
      "text/plain": [
       "<Figure size 640x480 with 1 Axes>"
      ]
     },
     "metadata": {},
     "output_type": "display_data"
    }
   ],
   "source": []
  },
  {
   "cell_type": "code",
   "execution_count": null,
   "metadata": {},
   "outputs": [],
   "source": []
  }
 ],
 "metadata": {
  "kernelspec": {
   "display_name": "Python_Youtube",
   "language": "python",
   "name": "python3"
  },
  "language_info": {
   "codemirror_mode": {
    "name": "ipython",
    "version": 3
   },
   "file_extension": ".py",
   "mimetype": "text/x-python",
   "name": "python",
   "nbconvert_exporter": "python",
   "pygments_lexer": "ipython3",
   "version": "3.11.11"
  }
 },
 "nbformat": 4,
 "nbformat_minor": 2
}
