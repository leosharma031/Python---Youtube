{
 "cells": [
  {
   "cell_type": "code",
   "execution_count": null,
   "metadata": {},
   "outputs": [],
   "source": [
    "import numpy as np\n",
    "import pandas as pd\n",
    "from datasets import load_dataset\n",
    "import matplotlib.pyplot as plt\n",
    "import ast \n",
    "df = pd.read_csv(r\"C:\\Users\\homeA\\Desktop\\Python - Youtube\\data_jobs.csv\")\n",
    "\n",
    "df['job_posted_date'] = pd.to_datetime(df['job_posted_date'])\n",
    "\n",
    "df = df.dropna(subset='job_skills')                ## Dropping NaN values\n",
    "\n",
    "def clean_list(skill):                       \n",
    "    return ast.literal_eval(skill)                  ## it runs this and changes String to the List data Type\n",
    "df['job_skills'] = df['job_skills'].apply(clean_list)\n",
    "\n"
   ]
  },
  {
   "cell_type": "code",
   "execution_count": 53,
   "metadata": {},
   "outputs": [
    {
     "data": {
      "text/plain": [
       "['r', 'python', 'sql', 'nosql', 'power bi', 'tableau']"
      ]
     },
     "execution_count": 53,
     "metadata": {},
     "output_type": "execute_result"
    }
   ],
   "source": [
    "## Confirming that string is converted to list\n",
    "df['job_skills'][1]"
   ]
  },
  {
   "cell_type": "code",
   "execution_count": 83,
   "metadata": {},
   "outputs": [
    {
     "data": {
      "image/png": "[encoded data removed]",
      "text/plain": [
       "<Figure size 640x480 with 1 Axes>"
      ]
     },
     "metadata": {},
     "output_type": "display_data"
    }
   ],
   "source": [
    "df_exploded = df.explode('job_skills')\n",
    "## This will break individual skill in a individual Row as we can see below\n",
    "\n",
    "\n",
    "df_exploded['job_skills'].value_counts().head(10).plot(kind='bar')\n",
    "plt.show()\n",
    "## Here we are counting number of skills and then seeing top 10 skills and plotting them \n",
    "## as a bar graph below"
   ]
  },
  {
   "cell_type": "code",
   "execution_count": 55,
   "metadata": {},
   "outputs": [
    {
     "data": {
      "text/plain": [
       "job_skills  job_title_short          \n",
       "airflow     Business Analyst               318\n",
       "            Cloud Engineer                 260\n",
       "            Data Analyst                  2002\n",
       "            Data Engineer                25505\n",
       "            Data Scientist                3915\n",
       "                                         ...  \n",
       "zoom        Machine Learning Engineer       46\n",
       "            Senior Data Analyst             86\n",
       "            Senior Data Engineer           122\n",
       "            Senior Data Scientist           79\n",
       "            Software Engineer              229\n",
       "Length: 2256, dtype: int64"
      ]
     },
     "execution_count": 55,
     "metadata": {},
     "output_type": "execute_result"
    }
   ],
   "source": [
    "## Now we want to group them by job title\n",
    "df_exploded.groupby(['job_skills', 'job_title_short']).size()\n",
    "\n",
    "## Continued Below... 1/2"
   ]
  },
  {
   "cell_type": "code",
   "execution_count": 56,
   "metadata": {},
   "outputs": [
    {
     "data": {
      "text/plain": [
       "job_title_short\n",
       "Business Analyst              132832\n",
       "Cloud Engineer                 46499\n",
       "Data Analyst                  635832\n",
       "Data Engineer                1133961\n",
       "Data Scientist                799720\n",
       "Machine Learning Engineer      77010\n",
       "Senior Data Analyst           116917\n",
       "Senior Data Engineer          314435\n",
       "Senior Data Scientist         183963\n",
       "Software Engineer             219114\n",
       "Name: job_skills, dtype: int64"
      ]
     },
     "execution_count": 56,
     "metadata": {},
     "output_type": "execute_result"
    }
   ],
   "source": [
    "df_exploded.groupby('job_title_short')['job_skills'].size()"
   ]
  },
  {
   "cell_type": "code",
   "execution_count": 57,
   "metadata": {},
   "outputs": [
    {
     "data": {
      "text/plain": [
       "job_skills\n",
       "sql         384849\n",
       "python      380909\n",
       "aws         145381\n",
       "azure       132527\n",
       "r           130892\n",
       "tableau     127213\n",
       "excel       127018\n",
       "spark       114609\n",
       "power bi     98147\n",
       "java         85612\n",
       "Name: job_title_short, dtype: int64"
      ]
     },
     "execution_count": 57,
     "metadata": {},
     "output_type": "execute_result"
    }
   ],
   "source": [
    "df_exploded.groupby('job_skills')['job_title_short'].size().sort_values(ascending=False).head(10)\n",
    "## Does the same task as below\n",
    "# df_exploded['job_skills'].value_counts().head(10).plot(kind='bar')"
   ]
  },
  {
   "cell_type": "code",
   "execution_count": 58,
   "metadata": {},
   "outputs": [
    {
     "data": {
      "text/plain": [
       "job_skills\n",
       "sql         384849\n",
       "python      380909\n",
       "aws         145381\n",
       "azure       132527\n",
       "r           130892\n",
       "tableau     127213\n",
       "excel       127018\n",
       "spark       114609\n",
       "power bi     98147\n",
       "java         85612\n",
       "Name: count, dtype: int64"
      ]
     },
     "execution_count": 58,
     "metadata": {},
     "output_type": "execute_result"
    }
   ],
   "source": [
    "df_exploded['job_skills'].value_counts().head(10)"
   ]
  },
  {
   "cell_type": "code",
   "execution_count": 86,
   "metadata": {},
   "outputs": [],
   "source": [
    "## Continued Below ..... 2/2\n",
    "\n"
   ]
  },
  {
   "cell_type": "code",
   "execution_count": null,
   "metadata": {},
   "outputs": [
    {
     "data": {
      "text/html": [
       "<div>\n",
       "<style scoped>\n",
       "    .dataframe tbody tr th:only-of-type {\n",
       "        vertical-align: middle;\n",
       "    }\n",
       "\n",
       "    .dataframe tbody tr th {\n",
       "        vertical-align: top;\n",
       "    }\n",
       "\n",
       "    .dataframe thead th {\n",
       "        text-align: right;\n",
       "    }\n",
       "</style>\n",
       "<table border=\"1\" class=\"dataframe\">\n",
       "  <thead>\n",
       "    <tr style=\"text-align: right;\">\n",
       "      <th></th>\n",
       "      <th>job_title_short</th>\n",
       "      <th>skill_count</th>\n",
       "    </tr>\n",
       "  </thead>\n",
       "  <tbody>\n",
       "    <tr>\n",
       "      <th>3</th>\n",
       "      <td>Data Engineer</td>\n",
       "      <td>1133961</td>\n",
       "    </tr>\n",
       "    <tr>\n",
       "      <th>4</th>\n",
       "      <td>Data Scientist</td>\n",
       "      <td>799720</td>\n",
       "    </tr>\n",
       "    <tr>\n",
       "      <th>2</th>\n",
       "      <td>Data Analyst</td>\n",
       "      <td>635832</td>\n",
       "    </tr>\n",
       "    <tr>\n",
       "      <th>7</th>\n",
       "      <td>Senior Data Engineer</td>\n",
       "      <td>314435</td>\n",
       "    </tr>\n",
       "    <tr>\n",
       "      <th>9</th>\n",
       "      <td>Software Engineer</td>\n",
       "      <td>219114</td>\n",
       "    </tr>\n",
       "    <tr>\n",
       "      <th>8</th>\n",
       "      <td>Senior Data Scientist</td>\n",
       "      <td>183963</td>\n",
       "    </tr>\n",
       "    <tr>\n",
       "      <th>0</th>\n",
       "      <td>Business Analyst</td>\n",
       "      <td>132832</td>\n",
       "    </tr>\n",
       "    <tr>\n",
       "      <th>6</th>\n",
       "      <td>Senior Data Analyst</td>\n",
       "      <td>116917</td>\n",
       "    </tr>\n",
       "    <tr>\n",
       "      <th>5</th>\n",
       "      <td>Machine Learning Engineer</td>\n",
       "      <td>77010</td>\n",
       "    </tr>\n",
       "    <tr>\n",
       "      <th>1</th>\n",
       "      <td>Cloud Engineer</td>\n",
       "      <td>46499</td>\n",
       "    </tr>\n",
       "  </tbody>\n",
       "</table>\n",
       "</div>"
      ],
      "text/plain": [
       "             job_title_short  skill_count\n",
       "3              Data Engineer      1133961\n",
       "4             Data Scientist       799720\n",
       "2               Data Analyst       635832\n",
       "7       Senior Data Engineer       314435\n",
       "9          Software Engineer       219114\n",
       "8      Senior Data Scientist       183963\n",
       "0           Business Analyst       132832\n",
       "6        Senior Data Analyst       116917\n",
       "5  Machine Learning Engineer        77010\n",
       "1             Cloud Engineer        46499"
      ]
     },
     "execution_count": 87,
     "metadata": {},
     "output_type": "execute_result"
    }
   ],
   "source": [
    "df_exploded = df.explode('job_skills')\n",
    "## This will break individual skill in a individual Row as we can see below\n",
    "\n",
    "\n",
    "## Now we want to group them by job title, here we count the number of occurence of each skill for a specific job title\n",
    "skills_count = df_exploded.groupby(['job_title_short','job_skills']).size()\n",
    "# skills_count = df_exploded.groupby('job_title_short')['job_skills'].size()\n",
    "\n",
    "## Now this skills_count variable is saved as a series, we want it to convert to dataframe\n",
    "df_skills_count = skills_count.reset_index(name='skill_count')\n",
    "\n",
    "\n",
    "## Now we want to sort the dataframe by number of skills\n",
    "df_skills_count = df_skills_count.sort_values(by = 'skill_count',ascending=False)\n",
    "\n",
    "\n",
    "df_skills_count"
   ]
  },
  {
   "cell_type": "code",
   "execution_count": 82,
   "metadata": {},
   "outputs": [
    {
     "data": {
      "image/png": "[encoded data removed]",
      "text/plain": [
       "<Figure size 640x480 with 1 Axes>"
      ]
     },
     "metadata": {},
     "output_type": "display_data"
    }
   ],
   "source": [
    "## Now we want to plot this for each Job title\n",
    "\n",
    "job = 'Data Analyst'\n",
    "top_skills = 10\n",
    "df_skill_final = df_skills_count[df_skills_count['job_title_short']== job].head(top_skills)\n",
    "# df_skill_final.plot(kind='bar', x='job_skills', y='skill_count')\n",
    "\n",
    "df_skill_final.plot(kind='barh', x='job_skills', y='skill_count')\n",
    "plt.gca().invert_yaxis()\n",
    "plt.title(f'Top {top_skills} skills for {job}')\n",
    "plt.xlabel('Job Posting Count')\n",
    "plt.ylabel('')\n",
    "plt.legend().set_visible(False)\n",
    "plt.show()"
   ]
  },
  {
   "cell_type": "code",
   "execution_count": 94,
   "metadata": {},
   "outputs": [
    {
     "data": {
      "text/plain": [
       "job_title_short    job_skills\n",
       "Business Analyst   airflow        318\n",
       "                   airtable        17\n",
       "                   alteryx       1078\n",
       "                   angular         87\n",
       "                   ansible        120\n",
       "                                 ... \n",
       "Software Engineer  wrike            4\n",
       "                   wsl             13\n",
       "                   xamarin         35\n",
       "                   yarn           145\n",
       "                   zoom           229\n",
       "Length: 2256, dtype: int64"
      ]
     },
     "execution_count": 94,
     "metadata": {},
     "output_type": "execute_result"
    }
   ],
   "source": [
    "skills_count = df_exploded.groupby(['job_title_short','job_skills']).size()\n",
    "skills_count\n"
   ]
  },
  {
   "cell_type": "code",
   "execution_count": 93,
   "metadata": {},
   "outputs": [
    {
     "data": {
      "text/plain": [
       "job_title_short\n",
       "Business Analyst              132832\n",
       "Cloud Engineer                 46499\n",
       "Data Analyst                  635832\n",
       "Data Engineer                1133961\n",
       "Data Scientist                799720\n",
       "Machine Learning Engineer      77010\n",
       "Senior Data Analyst           116917\n",
       "Senior Data Engineer          314435\n",
       "Senior Data Scientist         183963\n",
       "Software Engineer             219114\n",
       "Name: job_skills, dtype: int64"
      ]
     },
     "execution_count": 93,
     "metadata": {},
     "output_type": "execute_result"
    }
   ],
   "source": [
    "skills_count = df_exploded.groupby('job_title_short')['job_skills'].size()\n",
    "skills_count"
   ]
  },
  {
   "cell_type": "code",
   "execution_count": null,
   "metadata": {},
   "outputs": [],
   "source": []
  }
 ],
 "metadata": {
  "kernelspec": {
   "display_name": "Python_Youtube",
   "language": "python",
   "name": "python3"
  },
  "language_info": {
   "codemirror_mode": {
    "name": "ipython",
    "version": 3
   },
   "file_extension": ".py",
   "mimetype": "text/x-python",
   "name": "python",
   "nbconvert_exporter": "python",
   "pygments_lexer": "ipython3",
   "version": "3.11.11"
  }
 },
 "nbformat": 4,
 "nbformat_minor": 2
}
