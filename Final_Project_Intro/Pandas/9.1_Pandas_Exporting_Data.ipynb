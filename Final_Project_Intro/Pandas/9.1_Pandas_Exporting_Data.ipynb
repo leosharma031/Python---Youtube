{
 "cells": [
  {
   "cell_type": "code",
   "execution_count": 2,
   "metadata": {},
   "outputs": [],
   "source": [
    "import numpy as np\n",
    "import pandas as pd\n",
    "from datasets import load_dataset\n",
    "import matplotlib.pyplot as plt\n",
    "\n",
    "# dataset = load_dataset('lukebarousse/data_jobs')\n",
    "# df = dataset['train'].to_pandas()\n",
    "\n",
    "df = pd.read_csv(r\"C:\\Users\\homeA\\Desktop\\Python - Youtube\\data_jobs.csv\")\n",
    "\n",
    "df['job_posted_date'] = pd.to_datetime(df['job_posted_date'])"
   ]
  },
  {
   "cell_type": "code",
   "execution_count": null,
   "metadata": {},
   "outputs": [],
   "source": [
    "# Export to CSV (2.9.1) - Problem\n",
    "# Pandas Exporting Data\n",
    "# Problem Statement:\n",
    "# Export the DataFrame to a CSV file named data_jobs_export.csv without including the index. Inspect the contents of the CSV exported.\n",
    "\n",
    "df.head().to_csv('data_jobs_export.csv', index=False)"
   ]
  },
  {
   "cell_type": "code",
   "execution_count": 4,
   "metadata": {},
   "outputs": [
    {
     "name": "stdout",
     "output_type": "stream",
     "text": [
      "<class 'pandas.core.frame.DataFrame'>\n",
      "RangeIndex: 785741 entries, 0 to 785740\n",
      "Data columns (total 17 columns):\n",
      " #   Column                 Non-Null Count   Dtype         \n",
      "---  ------                 --------------   -----         \n",
      " 0   job_title_short        785741 non-null  object        \n",
      " 1   job_title              785740 non-null  object        \n",
      " 2   job_location           784696 non-null  object        \n",
      " 3   job_via                785733 non-null  object        \n",
      " 4   job_schedule_type      773074 non-null  object        \n",
      " 5   job_work_from_home     785741 non-null  bool          \n",
      " 6   search_location        785741 non-null  object        \n",
      " 7   job_posted_date        785741 non-null  datetime64[ns]\n",
      " 8   job_no_degree_mention  785741 non-null  bool          \n",
      " 9   job_health_insurance   785741 non-null  bool          \n",
      " 10  job_country            785692 non-null  object        \n",
      " 11  salary_rate            33067 non-null   object        \n",
      " 12  salary_year_avg        22003 non-null   float64       \n",
      " 13  salary_hour_avg        10662 non-null   float64       \n",
      " 14  company_name           785723 non-null  object        \n",
      " 15  job_skills             668704 non-null  object        \n",
      " 16  job_type_skills        668704 non-null  object        \n",
      "dtypes: bool(3), datetime64[ns](1), float64(2), object(11)\n",
      "memory usage: 86.2+ MB\n"
     ]
    }
   ],
   "source": [
    "# Filter and Export to CSV (2.9.2) - Problem\n",
    "# Pandas Exporting Data\n",
    "\n",
    "# Problem Statement:\n",
    "# Filter the DataFrame to include only job postings with 'Data Scientist' in the job_title_short column.\n",
    "# Export the filtered DataFrame to a CSV file named data_scientist_jobs.csv without including the index.\n",
    "df.info()\n",
    "# Inspect that the CSV has been exported with the correct filtered data."
   ]
  },
  {
   "cell_type": "code",
   "execution_count": 5,
   "metadata": {},
   "outputs": [],
   "source": [
    "df_filtered = df[df['job_title_short'] == 'Data Scientist'].copy()\n",
    "df_filtered.to_csv('data_scientist_jobs.csv', index = False)"
   ]
  },
  {
   "cell_type": "code",
   "execution_count": 14,
   "metadata": {},
   "outputs": [],
   "source": [
    "#  Export to Excel (2.9.3) - Problem\n",
    "# Pandas Exporting Data\n",
    "# Problem Statement:\n",
    "# Filter the DataFrame to include only job postings with 'New York, NY' in the job_location column.\n",
    "# Export the filtered DataFrame to an Excel file named new_york_jobs.xlsx without including the index.\n",
    "# Display the first 5 rows of the filtered DataFrame to confirm the export.\n",
    "\n",
    "df_ny_jobs = df[df['job_location']=='New York, NY']\n",
    "df_ny_jobs.to_excel('new_york_jobs.xlsx', index=False)"
   ]
  },
  {
   "cell_type": "code",
   "execution_count": null,
   "metadata": {},
   "outputs": [],
   "source": []
  }
 ],
 "metadata": {
  "kernelspec": {
   "display_name": "Python_Youtube",
   "language": "python",
   "name": "python3"
  },
  "language_info": {
   "codemirror_mode": {
    "name": "ipython",
    "version": 3
   },
   "file_extension": ".py",
   "mimetype": "text/x-python",
   "name": "python",
   "nbconvert_exporter": "python",
   "pygments_lexer": "ipython3",
   "version": "3.11.11"
  }
 },
 "nbformat": 4,
 "nbformat_minor": 2
}
